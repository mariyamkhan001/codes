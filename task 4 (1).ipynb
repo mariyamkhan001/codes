{
 "cells": [
  {
   "cell_type": "code",
   "execution_count": 1,
   "id": "b7e67cae",
   "metadata": {},
   "outputs": [
    {
     "name": "stdout",
     "output_type": "stream",
     "text": [
      "Requirement already satisfied: dash in d:\\dha suffa university\\c third semseter\\downloads software for labs\\lib\\site-packages (2.17.1)\n",
      "Requirement already satisfied: plotly in d:\\dha suffa university\\c third semseter\\downloads software for labs\\lib\\site-packages (5.9.0)\n",
      "Requirement already satisfied: pandas in d:\\dha suffa university\\c third semseter\\downloads software for labs\\lib\\site-packages (1.4.4)\n",
      "Requirement already satisfied: retrying in d:\\dha suffa university\\c third semseter\\downloads software for labs\\lib\\site-packages (from dash) (1.3.4)\n",
      "Requirement already satisfied: dash-core-components==2.0.0 in d:\\dha suffa university\\c third semseter\\downloads software for labs\\lib\\site-packages (from dash) (2.0.0)\n",
      "Requirement already satisfied: Werkzeug<3.1 in d:\\dha suffa university\\c third semseter\\downloads software for labs\\lib\\site-packages (from dash) (2.0.3)\n",
      "Requirement already satisfied: dash-table==5.0.0 in d:\\dha suffa university\\c third semseter\\downloads software for labs\\lib\\site-packages (from dash) (5.0.0)\n",
      "Requirement already satisfied: typing-extensions>=4.1.1 in d:\\dha suffa university\\c third semseter\\downloads software for labs\\lib\\site-packages (from dash) (4.3.0)\n",
      "Requirement already satisfied: setuptools in d:\\dha suffa university\\c third semseter\\downloads software for labs\\lib\\site-packages (from dash) (63.4.1)\n",
      "Requirement already satisfied: requests in d:\\dha suffa university\\c third semseter\\downloads software for labs\\lib\\site-packages (from dash) (2.28.1)\n",
      "Requirement already satisfied: dash-html-components==2.0.0 in d:\\dha suffa university\\c third semseter\\downloads software for labs\\lib\\site-packages (from dash) (2.0.0)\n",
      "Requirement already satisfied: nest-asyncio in d:\\dha suffa university\\c third semseter\\downloads software for labs\\lib\\site-packages (from dash) (1.5.5)\n",
      "Requirement already satisfied: Flask<3.1,>=1.0.4 in d:\\dha suffa university\\c third semseter\\downloads software for labs\\lib\\site-packages (from dash) (1.1.2)\n",
      "Requirement already satisfied: importlib-metadata in d:\\dha suffa university\\c third semseter\\downloads software for labs\\lib\\site-packages (from dash) (4.11.3)\n",
      "Requirement already satisfied: tenacity>=6.2.0 in d:\\dha suffa university\\c third semseter\\downloads software for labs\\lib\\site-packages (from plotly) (8.0.1)\n",
      "Requirement already satisfied: pytz>=2020.1 in d:\\dha suffa university\\c third semseter\\downloads software for labs\\lib\\site-packages (from pandas) (2022.1)\n",
      "Requirement already satisfied: python-dateutil>=2.8.1 in d:\\dha suffa university\\c third semseter\\downloads software for labs\\lib\\site-packages (from pandas) (2.8.2)\n",
      "Requirement already satisfied: numpy>=1.18.5 in d:\\dha suffa university\\c third semseter\\downloads software for labs\\lib\\site-packages (from pandas) (1.26.3)\n",
      "Requirement already satisfied: Jinja2>=2.10.1 in d:\\dha suffa university\\c third semseter\\downloads software for labs\\lib\\site-packages (from Flask<3.1,>=1.0.4->dash) (2.11.3)\n",
      "Requirement already satisfied: click>=5.1 in d:\\dha suffa university\\c third semseter\\downloads software for labs\\lib\\site-packages (from Flask<3.1,>=1.0.4->dash) (8.0.4)\n",
      "Requirement already satisfied: itsdangerous>=0.24 in d:\\dha suffa university\\c third semseter\\downloads software for labs\\lib\\site-packages (from Flask<3.1,>=1.0.4->dash) (2.0.1)\n",
      "Requirement already satisfied: six>=1.5 in d:\\dha suffa university\\c third semseter\\downloads software for labs\\lib\\site-packages (from python-dateutil>=2.8.1->pandas) (1.16.0)\n",
      "Requirement already satisfied: zipp>=0.5 in d:\\dha suffa university\\c third semseter\\downloads software for labs\\lib\\site-packages (from importlib-metadata->dash) (3.8.0)\n",
      "Requirement already satisfied: idna<4,>=2.5 in d:\\dha suffa university\\c third semseter\\downloads software for labs\\lib\\site-packages (from requests->dash) (3.3)\n",
      "Requirement already satisfied: charset-normalizer<3,>=2 in d:\\dha suffa university\\c third semseter\\downloads software for labs\\lib\\site-packages (from requests->dash) (2.0.4)\n",
      "Requirement already satisfied: urllib3<1.27,>=1.21.1 in d:\\dha suffa university\\c third semseter\\downloads software for labs\\lib\\site-packages (from requests->dash) (1.26.11)\n",
      "Requirement already satisfied: certifi>=2017.4.17 in d:\\dha suffa university\\c third semseter\\downloads software for labs\\lib\\site-packages (from requests->dash) (2022.9.14)\n",
      "Requirement already satisfied: colorama in d:\\dha suffa university\\c third semseter\\downloads software for labs\\lib\\site-packages (from click>=5.1->Flask<3.1,>=1.0.4->dash) (0.4.5)\n",
      "Requirement already satisfied: MarkupSafe>=0.23 in d:\\dha suffa university\\c third semseter\\downloads software for labs\\lib\\site-packages (from Jinja2>=2.10.1->Flask<3.1,>=1.0.4->dash) (2.0.1)\n",
      "Note: you may need to restart the kernel to use updated packages.\n"
     ]
    }
   ],
   "source": [
    "pip install dash plotly pandas"
   ]
  },
  {
   "cell_type": "code",
   "execution_count": 2,
   "id": "1432478e",
   "metadata": {},
   "outputs": [
    {
     "name": "stderr",
     "output_type": "stream",
     "text": [
      "D:\\DHA SUFFA UNIVERSITY\\C THIRD SEMSETER\\downloads software for labs\\lib\\site-packages\\scipy\\__init__.py:155: UserWarning: A NumPy version >=1.18.5 and <1.25.0 is required for this version of SciPy (detected version 1.26.3\n",
      "  warnings.warn(f\"A NumPy version >={np_minversion} and <{np_maxversion}\"\n"
     ]
    }
   ],
   "source": [
    "from dash import Dash, dcc, html, Input, Output\n",
    "import plotly.express as px\n",
    "import pandas as pd\n",
    "import os"
   ]
  },
  {
   "cell_type": "code",
   "execution_count": 3,
   "id": "2003c04c",
   "metadata": {},
   "outputs": [],
   "source": [
    "# Initialize the Dash app\n",
    "app = Dash(__name__)\n",
    "\n",
    "# Define the layout \n",
    "app.layout = html.Div([\n",
    "    dcc.Graph(id='live-update-graph'),\n",
    "    dcc.Dropdown(\n",
    "        id='attribute-dropdown',\n",
    "        \n",
    "        value='TTC9B'  # Default value\n",
    "    ),\n",
    "    dcc.Interval(\n",
    "        id='interval-component',\n",
    "        interval=5*1000,  # in milliseconds\n",
    "        n_intervals=0\n",
    "    )\n",
    "])"
   ]
  },
  {
   "cell_type": "code",
   "execution_count": 4,
   "id": "ce43fe6c",
   "metadata": {},
   "outputs": [],
   "source": [
    "\n",
    "# Function to load data\n",
    "def load_data():\n",
    "    file_path = r'C:\\Users\\Tariq\\Documents\\health_care_chronos.csv'\n",
    "    if not os.path.exists(file_path):\n",
    "        raise FileNotFoundError(f\"The file at {file_path} does not exist.\")\n",
    "    df = pd.read_csv(file_path)\n",
    "    return df"
   ]
  },
  {
   "cell_type": "code",
   "execution_count": 5,
   "id": "d91e0e78",
   "metadata": {},
   "outputs": [],
   "source": [
    "# Populate the dropdown options \n",
    "@app.callback(\n",
    "    Output('attribute-dropdown', 'options'),\n",
    "    [Input('interval-component', 'n_intervals')]\n",
    ")\n",
    "def update_dropdown_options(n_intervals):\n",
    "    df = load_data()\n",
    "    # Generate dropdown options based on dataset columns\n",
    "    options = [{'label': col, 'value': col} for col in df.columns if col != 'Sample_ID']\n",
    "    return options"
   ]
  },
  {
   "cell_type": "code",
   "execution_count": 6,
   "id": "338a2aab",
   "metadata": {},
   "outputs": [],
   "source": [
    "# Define the callback function to update the graph\n",
    "@app.callback(\n",
    "    Output('live-update-graph', 'figure'),\n",
    "    [Input('interval-component', 'n_intervals'),\n",
    "     Input('attribute-dropdown', 'value')],\n",
    "    prevent_initial_call='initial_duplicate'  \n",
    ")\n",
    "def update_graph(n_intervals, selected_attribute):\n",
    "    df = load_data()\n",
    "    \n",
    "    # Check if selected_attribute is valid\n",
    "    if selected_attribute not in df.columns:\n",
    "        raise ValueError(f\"The selected attribute '{selected_attribute}' is not in the dataset columns.\")\n",
    "    \n",
    "    # Create the line plot\n",
    "    fig = px.line(df, x='Sample_ID', y=selected_attribute, title=f'{selected_attribute} Over Time')\n",
    "\n",
    "    fig.update_traces(line=dict(color='Green'))  \n",
    "    \n",
    "    return fig\n"
   ]
  },
  {
   "cell_type": "code",
   "execution_count": 7,
   "id": "d0257cf9",
   "metadata": {},
   "outputs": [
    {
     "data": {
      "text/html": [
       "\n",
       "        <iframe\n",
       "            width=\"100%\"\n",
       "            height=\"650\"\n",
       "            src=\"http://127.0.0.1:8082/\"\n",
       "            frameborder=\"0\"\n",
       "            allowfullscreen\n",
       "            \n",
       "        ></iframe>\n",
       "        "
      ],
      "text/plain": [
       "<IPython.lib.display.IFrame at 0x1a80cc61e50>"
      ]
     },
     "metadata": {},
     "output_type": "display_data"
    }
   ],
   "source": [
    "# Run the Dash app on a different port\n",
    "if __name__ == '__main__':\n",
    "    app.run_server(debug=True, port=8082)\n"
   ]
  },
  {
   "cell_type": "code",
   "execution_count": null,
   "id": "c394efda",
   "metadata": {},
   "outputs": [],
   "source": []
  }
 ],
 "metadata": {
  "kernelspec": {
   "display_name": "Python 3 (ipykernel)",
   "language": "python",
   "name": "python3"
  },
  "language_info": {
   "codemirror_mode": {
    "name": "ipython",
    "version": 3
   },
   "file_extension": ".py",
   "mimetype": "text/x-python",
   "name": "python",
   "nbconvert_exporter": "python",
   "pygments_lexer": "ipython3",
   "version": "3.9.13"
  }
 },
 "nbformat": 4,
 "nbformat_minor": 5
}
